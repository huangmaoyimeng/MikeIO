{
 "cells": [
  {
   "cell_type": "code",
   "execution_count": 23,
   "id": "38093247",
   "metadata": {},
   "outputs": [],
   "source": [
    "import numpy as np\n",
    "import pandas as pd\n",
    "import matplotlib.pyplot as plt\n",
    "import mikeio"
   ]
  },
  {
   "cell_type": "markdown",
   "id": "60f947d5",
   "metadata": {},
   "source": [
    "source: https://dhi.github.io/getting-started-with-mikeio/dfs2.html\n",
    "\n",
    "本节主要内容对dfs2文件进行数据处理，包括：\n",
    "1. 读取，并查看--类型、shape、geometry\n",
    "2. 按数据名称选取\n",
    "3. 按位置选取\n",
    "4. slicing\n",
    "5. 写入dfs2\n",
    "6. 坐标系系统的设置"
   ]
  },
  {
   "cell_type": "code",
   "execution_count": 24,
   "id": "632e52fa",
   "metadata": {},
   "outputs": [
    {
     "data": {
      "text/plain": [
       "<mikeio.Dataset>\n",
       "Dimensions: (1, 264, 216)\n",
       "Time: 2020-05-15 11:04:52 - 2020-05-15 11:04:52\n",
       "Items:\n",
       "  0:  Elevation <Total Water Depth> (meter)"
      ]
     },
     "execution_count": 24,
     "metadata": {},
     "output_type": "execute_result"
    }
   ],
   "source": [
    "ds = mikeio.read(\"mini_book\\data\\gebco_sound.dfs2\")\n",
    "ds"
   ]
  },
  {
   "cell_type": "code",
   "execution_count": 25,
   "id": "83a6a82d",
   "metadata": {},
   "outputs": [
    {
     "data": {
      "text/plain": [
       "mikeio.dataset.Dataset"
      ]
     },
     "execution_count": 25,
     "metadata": {},
     "output_type": "execute_result"
    }
   ],
   "source": [
    "type(ds)"
   ]
  },
  {
   "cell_type": "code",
   "execution_count": 26,
   "id": "1f386065",
   "metadata": {},
   "outputs": [
    {
     "data": {
      "text/plain": [
       "(1, 264, 216)"
      ]
     },
     "execution_count": 26,
     "metadata": {},
     "output_type": "execute_result"
    }
   ],
   "source": [
    "ds.shape"
   ]
  },
  {
   "cell_type": "code",
   "execution_count": 27,
   "id": "bd36403e",
   "metadata": {},
   "outputs": [
    {
     "name": "stderr",
     "output_type": "stream",
     "text": [
      "C:\\Users\\jiyu\\Anaconda3\\lib\\site-packages\\mikeio\\dataset.py:258: UserWarning: Indexing in MIKE IO 1.0 will not return a numpy array, but a mikeio.DataArray. More info: https://github.com/DHI/mikeio#readme\n",
      "  warnings.warn(\n"
     ]
    }
   ],
   "source": [
    "elevation = ds[0]"
   ]
  },
  {
   "cell_type": "code",
   "execution_count": 28,
   "id": "3b5a9099",
   "metadata": {},
   "outputs": [
    {
     "data": {
      "text/plain": [
       "numpy.ndarray"
      ]
     },
     "execution_count": 28,
     "metadata": {},
     "output_type": "execute_result"
    }
   ],
   "source": [
    "type(ds[0]) # in the updated mikeio 1.0, it will show 'mikeio.dataarray.DataArray'"
   ]
  },
  {
   "cell_type": "code",
   "execution_count": 29,
   "id": "777b5887",
   "metadata": {},
   "outputs": [
    {
     "data": {
      "text/plain": [
       "numpy.ndarray"
      ]
     },
     "execution_count": 29,
     "metadata": {},
     "output_type": "execute_result"
    }
   ],
   "source": [
    "type(elevation)"
   ]
  },
  {
   "cell_type": "code",
   "execution_count": 30,
   "id": "4eb615a0",
   "metadata": {},
   "outputs": [
    {
     "data": {
      "text/plain": [
       "(1, 264, 216)"
      ]
     },
     "execution_count": 30,
     "metadata": {},
     "output_type": "execute_result"
    }
   ],
   "source": [
    "elevation.shape"
   ]
  },
  {
   "cell_type": "code",
   "execution_count": 31,
   "id": "ca4d470b",
   "metadata": {},
   "outputs": [
    {
     "ename": "AttributeError",
     "evalue": "'numpy.ndarray' object has no attribute 'plot'",
     "output_type": "error",
     "traceback": [
      "\u001b[1;31m---------------------------------------------------------------------------\u001b[0m",
      "\u001b[1;31mAttributeError\u001b[0m                            Traceback (most recent call last)",
      "\u001b[1;32m~\\AppData\\Local\\Temp/ipykernel_3488/2193914573.py\u001b[0m in \u001b[0;36m<module>\u001b[1;34m\u001b[0m\n\u001b[1;32m----> 1\u001b[1;33m \u001b[0melevation\u001b[0m\u001b[1;33m.\u001b[0m\u001b[0mplot\u001b[0m\u001b[1;33m(\u001b[0m\u001b[1;33m)\u001b[0m\u001b[1;33m\u001b[0m\u001b[1;33m\u001b[0m\u001b[0m\n\u001b[0m",
      "\u001b[1;31mAttributeError\u001b[0m: 'numpy.ndarray' object has no attribute 'plot'"
     ]
    }
   ],
   "source": [
    "elevation.plot() # update mikeio to the version of 1.0 "
   ]
  },
  {
   "cell_type": "markdown",
   "id": "57f9c3ed",
   "metadata": {},
   "source": [
    "# Spatial axes "
   ]
  },
  {
   "cell_type": "code",
   "execution_count": 18,
   "id": "759d2ef3",
   "metadata": {},
   "outputs": [
    {
     "ename": "AttributeError",
     "evalue": "'Dataset' object has no attribute 'geometry'",
     "output_type": "error",
     "traceback": [
      "\u001b[1;31m---------------------------------------------------------------------------\u001b[0m",
      "\u001b[1;31mAttributeError\u001b[0m                            Traceback (most recent call last)",
      "\u001b[1;32m~\\AppData\\Local\\Temp/ipykernel_3488/682729822.py\u001b[0m in \u001b[0;36m<module>\u001b[1;34m\u001b[0m\n\u001b[1;32m----> 1\u001b[1;33m \u001b[0mds\u001b[0m\u001b[1;33m.\u001b[0m\u001b[0mgeometry\u001b[0m\u001b[1;33m\u001b[0m\u001b[1;33m\u001b[0m\u001b[0m\n\u001b[0m",
      "\u001b[1;31mAttributeError\u001b[0m: 'Dataset' object has no attribute 'geometry'"
     ]
    }
   ],
   "source": [
    "ds.geometry # update mikeio"
   ]
  },
  {
   "cell_type": "markdown",
   "id": "6b8ff5d1",
   "metadata": {},
   "source": [
    "# Extract data at location "
   ]
  },
  {
   "cell_type": "code",
   "execution_count": 32,
   "id": "63fe9e79",
   "metadata": {},
   "outputs": [
    {
     "ename": "AttributeError",
     "evalue": "'numpy.ndarray' object has no attribute 'interp'",
     "output_type": "error",
     "traceback": [
      "\u001b[1;31m---------------------------------------------------------------------------\u001b[0m",
      "\u001b[1;31mAttributeError\u001b[0m                            Traceback (most recent call last)",
      "\u001b[1;32m~\\AppData\\Local\\Temp/ipykernel_3488/675146437.py\u001b[0m in \u001b[0;36m<module>\u001b[1;34m\u001b[0m\n\u001b[0;32m      1\u001b[0m \u001b[0mstn\u001b[0m \u001b[1;33m=\u001b[0m \u001b[1;36m12.74792\u001b[0m\u001b[1;33m,\u001b[0m \u001b[1;36m55.865\u001b[0m\u001b[1;33m\u001b[0m\u001b[1;33m\u001b[0m\u001b[0m\n\u001b[1;32m----> 2\u001b[1;33m \u001b[0mda_stn\u001b[0m \u001b[1;33m=\u001b[0m \u001b[0melevation\u001b[0m\u001b[1;33m.\u001b[0m\u001b[0minterp\u001b[0m\u001b[1;33m(\u001b[0m\u001b[0mx\u001b[0m\u001b[1;33m=\u001b[0m\u001b[0mstn\u001b[0m\u001b[1;33m[\u001b[0m\u001b[1;36m0\u001b[0m\u001b[1;33m]\u001b[0m\u001b[1;33m,\u001b[0m \u001b[0my\u001b[0m\u001b[1;33m=\u001b[0m\u001b[0mstn\u001b[0m\u001b[1;33m[\u001b[0m\u001b[1;36m1\u001b[0m\u001b[1;33m]\u001b[0m\u001b[1;33m)\u001b[0m\u001b[1;33m\u001b[0m\u001b[1;33m\u001b[0m\u001b[0m\n\u001b[0m\u001b[0;32m      3\u001b[0m \u001b[0mda_stn\u001b[0m\u001b[1;33m\u001b[0m\u001b[1;33m\u001b[0m\u001b[0m\n",
      "\u001b[1;31mAttributeError\u001b[0m: 'numpy.ndarray' object has no attribute 'interp'"
     ]
    }
   ],
   "source": [
    "stn = 12.74792, 55.865\n",
    "da_stn = elevation.interp(x=stn[0], y=stn[1])\n",
    "da_stn"
   ]
  },
  {
   "cell_type": "code",
   "execution_count": null,
   "id": "43d6775b",
   "metadata": {},
   "outputs": [],
   "source": [
    "da_stn.values"
   ]
  },
  {
   "cell_type": "code",
   "execution_count": null,
   "id": "5d16163a",
   "metadata": {},
   "outputs": [],
   "source": [
    "elevation.plot()\n",
    "plt.scatter(stn[0],stn[1],marker='*',s=500,c='black')\n",
    "plt.text(12.85, 56.0, \"Sweden\")\n",
    "plt.text(12.3, 55.8, \"Denmark\")"
   ]
  },
  {
   "cell_type": "markdown",
   "id": "a3d873de",
   "metadata": {},
   "source": [
    "# slicing "
   ]
  },
  {
   "cell_type": "code",
   "execution_count": null,
   "id": "e9e047c7",
   "metadata": {},
   "outputs": [],
   "source": [
    "elevation.plot()\n",
    "plt.axvline(stn[0])\n",
    "plt.axhline(stn[1])"
   ]
  },
  {
   "cell_type": "code",
   "execution_count": null,
   "id": "b72190cb",
   "metadata": {},
   "outputs": [],
   "source": [
    "elevation.sel(y=stn[1]).plot(title=\"West-East\");"
   ]
  },
  {
   "cell_type": "code",
   "execution_count": null,
   "id": "fefd18bb",
   "metadata": {},
   "outputs": [],
   "source": [
    "elevation.sel(x=stn[0]).plot(title=\"South-North\");"
   ]
  },
  {
   "cell_type": "markdown",
   "id": "4f530e94",
   "metadata": {},
   "source": [
    "# Writing data "
   ]
  },
  {
   "cell_type": "code",
   "execution_count": 33,
   "id": "977271cd",
   "metadata": {},
   "outputs": [
    {
     "data": {
      "text/plain": [
       "(2, 4, 3)"
      ]
     },
     "execution_count": 33,
     "metadata": {},
     "output_type": "execute_result"
    }
   ],
   "source": [
    "data_i = np.arange(24).reshape(2,4,3)\n",
    "data_i.shape"
   ]
  },
  {
   "cell_type": "code",
   "execution_count": 34,
   "id": "cb482945",
   "metadata": {},
   "outputs": [
    {
     "data": {
      "text/plain": [
       "<matplotlib.colorbar.Colorbar at 0x107eb0a6700>"
      ]
     },
     "execution_count": 34,
     "metadata": {},
     "output_type": "execute_result"
    },
    {
     "data": {
      "image/png": "[encoded data removed]",
      "text/plain": [
       "<Figure size 432x288 with 2 Axes>"
      ]
     },
     "metadata": {
      "needs_background": "light"
     },
     "output_type": "display_data"
    }
   ],
   "source": [
    "plt.imshow(data_i[0]) #first timestamp\n",
    "plt.colorbar()"
   ]
  },
  {
   "cell_type": "code",
   "execution_count": 35,
   "id": "e3962335",
   "metadata": {},
   "outputs": [
    {
     "ename": "AttributeError",
     "evalue": "module 'mikeio' has no attribute 'Grid2D'",
     "output_type": "error",
     "traceback": [
      "\u001b[1;31m---------------------------------------------------------------------------\u001b[0m",
      "\u001b[1;31mAttributeError\u001b[0m                            Traceback (most recent call last)",
      "\u001b[1;32m~\\AppData\\Local\\Temp/ipykernel_3488/2695196508.py\u001b[0m in \u001b[0;36m<module>\u001b[1;34m\u001b[0m\n\u001b[1;32m----> 1\u001b[1;33m \u001b[0mgrid\u001b[0m \u001b[1;33m=\u001b[0m \u001b[0mmikeio\u001b[0m\u001b[1;33m.\u001b[0m\u001b[0mGrid2D\u001b[0m\u001b[1;33m(\u001b[0m\u001b[0mx0\u001b[0m\u001b[1;33m=\u001b[0m\u001b[1;36m12.0\u001b[0m\u001b[1;33m,\u001b[0m \u001b[0mdx\u001b[0m\u001b[1;33m=\u001b[0m\u001b[1;36m1.0\u001b[0m\u001b[1;33m,\u001b[0m \u001b[0my0\u001b[0m\u001b[1;33m=\u001b[0m\u001b[1;36m55.0\u001b[0m\u001b[1;33m,\u001b[0m \u001b[0mdy\u001b[0m\u001b[1;33m=\u001b[0m\u001b[1;36m1.0\u001b[0m\u001b[1;33m,\u001b[0m \u001b[0mnx\u001b[0m\u001b[1;33m=\u001b[0m\u001b[1;36m3\u001b[0m\u001b[1;33m,\u001b[0m \u001b[0mny\u001b[0m\u001b[1;33m=\u001b[0m\u001b[1;36m4\u001b[0m\u001b[1;33m,\u001b[0m \u001b[0mprojection\u001b[0m\u001b[1;33m=\u001b[0m\u001b[1;34m'LONG/LAT'\u001b[0m\u001b[1;33m)\u001b[0m\u001b[1;33m\u001b[0m\u001b[1;33m\u001b[0m\u001b[0m\n\u001b[0m\u001b[0;32m      2\u001b[0m \u001b[0mgrid\u001b[0m\u001b[1;33m\u001b[0m\u001b[1;33m\u001b[0m\u001b[0m\n",
      "\u001b[1;31mAttributeError\u001b[0m: module 'mikeio' has no attribute 'Grid2D'"
     ]
    }
   ],
   "source": [
    "grid = mikeio.Grid2D(x0=12.0, dx=1.0, y0=55.0, dy=1.0, nx=3, ny=4, projection='LONG/LAT')\n",
    "grid # 设置坐标系，坐标起始点，精度，范围"
   ]
  },
  {
   "cell_type": "code",
   "execution_count": null,
   "id": "395e9e31",
   "metadata": {},
   "outputs": [],
   "source": [
    "nt = data_i.shape[0]\n",
    "\n",
    "da = mikeio.DataArray(data = data_i,\n",
    "                      geometry=grid,\n",
    "                      time = pd.date_range(\"2020\",periods=nt,freq='D'),\n",
    "                      item= mikeio.ItemInfo(\"Example\", mikeio.EUMType.Elevation))\n",
    "\n",
    "da"
   ]
  },
  {
   "cell_type": "code",
   "execution_count": null,
   "id": "181cf932",
   "metadata": {},
   "outputs": [],
   "source": [
    "ds = mikeio.Dataset([da])\n",
    "ds"
   ]
  },
  {
   "cell_type": "code",
   "execution_count": null,
   "id": "bbba6b08",
   "metadata": {},
   "outputs": [],
   "source": [
    "ds.to_dfs('example_geo.dfs2')"
   ]
  },
  {
   "cell_type": "markdown",
   "id": "9c530658",
   "metadata": {},
   "source": [
    "# Projected coordinates \n",
    "Projection string in WKT format. Use MIKE Zero for formatting. Some shorthands are available for UTM zones, e.g. UTM-32."
   ]
  },
  {
   "cell_type": "code",
   "execution_count": null,
   "id": "93724b41",
   "metadata": {},
   "outputs": [],
   "source": [
    "pgrid = mikeio.Grid2D(x0 = 337100.0, dx= 10000.0, y0= 6122900.0, dy=10000.0, nx=3, ny=4, projection=\"UTM-32\")\n",
    "pgrid"
   ]
  },
  {
   "cell_type": "code",
   "execution_count": null,
   "id": "a5ab91da",
   "metadata": {},
   "outputs": [],
   "source": [
    "pda = mikeio.DataArray(data = data_i,\n",
    "                       geometry=pgrid,\n",
    "                       time = pd.date_range(\"2020\",periods=nt,freq='D'),\n",
    "                       item= mikeio.ItemInfo(\"Example\", mikeio.EUMType.Elevation))\n",
    "\n",
    "pda"
   ]
  },
  {
   "cell_type": "code",
   "execution_count": null,
   "id": "22538913",
   "metadata": {},
   "outputs": [],
   "source": [
    "pda.plot()"
   ]
  },
  {
   "cell_type": "code",
   "execution_count": null,
   "id": "2800addf",
   "metadata": {},
   "outputs": [],
   "source": [
    "pda.to_dfs(\"example_proj.dfs2\")"
   ]
  },
  {
   "cell_type": "code",
   "execution_count": null,
   "id": "211bcf83",
   "metadata": {},
   "outputs": [],
   "source": []
  },
  {
   "cell_type": "code",
   "execution_count": null,
   "id": "5dd3bf99",
   "metadata": {},
   "outputs": [],
   "source": []
  },
  {
   "cell_type": "code",
   "execution_count": null,
   "id": "ddf59157",
   "metadata": {},
   "outputs": [],
   "source": []
  },
  {
   "cell_type": "code",
   "execution_count": null,
   "id": "2ac4a8f9",
   "metadata": {},
   "outputs": [],
   "source": []
  }
 ],
 "metadata": {
  "kernelspec": {
   "display_name": "Python 3 (ipykernel)",
   "language": "python",
   "name": "python3"
  },
  "language_info": {
   "codemirror_mode": {
    "name": "ipython",
    "version": 3
   },
   "file_extension": ".py",
   "mimetype": "text/x-python",
   "name": "python",
   "nbconvert_exporter": "python",
   "pygments_lexer": "ipython3",
   "version": "3.9.7"
  }
 },
 "nbformat": 4,
 "nbformat_minor": 5
}
