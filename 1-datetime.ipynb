{
 "cells": [
  {
   "cell_type": "markdown",
   "id": "a4989e6f",
   "metadata": {},
   "source": [
    "# Datetimes and timedeltas"
   ]
  },
  {
   "cell_type": "markdown",
   "id": "4c3c9f79",
   "metadata": {},
   "source": [
    "Source: https://dhi.github.io/getting-started-with-mikeio/datetime_timedelta.html#datetimes-and-timedeltas\n",
    "\n",
    "本节主要内容\n",
    "1. 三种常见的生成时间的方法\n",
    "2. 三种常见的计算时间差的方法\n",
    "3. 生成指定范围的时间段（等间距）\n",
    "4. 以时间为index进行数据slice"
   ]
  },
  {
   "cell_type": "markdown",
   "id": "8b958835",
   "metadata": {},
   "source": [
    "Three most common ways to represent datetimes and timedelta, and how to convert between them.\n",
    "1. datetime.datetime(python build_in)\n",
    "2. pd.Timestamp\n",
    "3. np.datetime64"
   ]
  },
  {
   "cell_type": "code",
   "execution_count": 1,
   "id": "f5a6cc94",
   "metadata": {},
   "outputs": [
    {
     "data": {
      "text/plain": [
       "'C:\\\\Users\\\\jiyu'"
      ]
     },
     "execution_count": 1,
     "metadata": {},
     "output_type": "execute_result"
    }
   ],
   "source": [
    "# current working directory\n",
    "pwd"
   ]
  },
  {
   "cell_type": "code",
   "execution_count": 1,
   "id": "17b64b57",
   "metadata": {},
   "outputs": [],
   "source": [
    "from datetime import datetime, timedelta\n",
    "import numpy as np\n",
    "import pandas as pd"
   ]
  },
  {
   "cell_type": "markdown",
   "id": "d967a779",
   "metadata": {},
   "source": [
    "## datetime.datetime"
   ]
  },
  {
   "cell_type": "code",
   "execution_count": 3,
   "id": "4653973d",
   "metadata": {},
   "outputs": [
    {
     "data": {
      "text/plain": [
       "datetime.datetime(2018, 1, 1, 19, 3, 1)"
      ]
     },
     "execution_count": 3,
     "metadata": {},
     "output_type": "execute_result"
    }
   ],
   "source": [
    "dt_dt = datetime(2018,1,1,19,3,1)\n",
    "dt_dt"
   ]
  },
  {
   "cell_type": "markdown",
   "id": "06b28f0c",
   "metadata": {},
   "source": [
    "## NumPy: np.datetime64"
   ]
  },
  {
   "cell_type": "markdown",
   "id": "e810e9ba",
   "metadata": {},
   "source": [
    "np.datetime64 is essentially an integer (np.int64) representing the time since epoch time 1970-01-01 00:00:00 in a specified unit."
   ]
  },
  {
   "cell_type": "code",
   "execution_count": 4,
   "id": "554f8e42",
   "metadata": {},
   "outputs": [
    {
     "data": {
      "text/plain": [
       "numpy.datetime64('2018-01-01T19:03:01')"
      ]
     },
     "execution_count": 4,
     "metadata": {},
     "output_type": "execute_result"
    }
   ],
   "source": [
    "dt_np = np.datetime64('2018-01-01 19:03:01')\n",
    "dt_np"
   ]
  },
  {
   "cell_type": "code",
   "execution_count": 5,
   "id": "9ece519d",
   "metadata": {},
   "outputs": [
    {
     "data": {
      "text/plain": [
       "1514833381"
      ]
     },
     "execution_count": 5,
     "metadata": {},
     "output_type": "execute_result"
    }
   ],
   "source": [
    "np.int64(dt_np)"
   ]
  },
  {
   "cell_type": "code",
   "execution_count": 6,
   "id": "5441ec25",
   "metadata": {},
   "outputs": [
    {
     "data": {
      "text/plain": [
       "numpy.datetime64('2018-01-01T19:03:01')"
      ]
     },
     "execution_count": 6,
     "metadata": {},
     "output_type": "execute_result"
    }
   ],
   "source": [
    "np.datetime64('1970-01-01 00:00:00') + np.int64(dt_np)"
   ]
  },
  {
   "cell_type": "code",
   "execution_count": 8,
   "id": "c9014eca",
   "metadata": {},
   "outputs": [
    {
     "data": {
      "text/plain": [
       "'datetime64[s]'"
      ]
     },
     "execution_count": 8,
     "metadata": {},
     "output_type": "execute_result"
    }
   ],
   "source": [
    "dt_np.dtype.name"
   ]
  },
  {
   "cell_type": "code",
   "execution_count": 11,
   "id": "e30bd05f",
   "metadata": {},
   "outputs": [
    {
     "data": {
      "text/plain": [
       "datetime.datetime(2018, 1, 1, 19, 3, 1)"
      ]
     },
     "execution_count": 11,
     "metadata": {},
     "output_type": "execute_result"
    }
   ],
   "source": [
    "dt_np.astype(datetime) # np.datetime64 --> datetime.datetime"
   ]
  },
  {
   "cell_type": "markdown",
   "id": "1287b68b",
   "metadata": {},
   "source": [
    "## Pandas: pd.Timestamp"
   ]
  },
  {
   "cell_type": "markdown",
   "id": "08d149cd",
   "metadata": {},
   "source": [
    "pd.Timestamp uses np.datetime64[ns] under the hood. Pandas is good at recognizing various string representations of datetimes:"
   ]
  },
  {
   "cell_type": "code",
   "execution_count": 2,
   "id": "dba3b5d3",
   "metadata": {},
   "outputs": [
    {
     "data": {
      "text/plain": [
       "Timestamp('2018-08-01 00:00:00')"
      ]
     },
     "execution_count": 2,
     "metadata": {},
     "output_type": "execute_result"
    }
   ],
   "source": [
    "dt_pd = pd.Timestamp('2018/8/1') # equivalent to pd.to_datetime()\n",
    "dt_pd"
   ]
  },
  {
   "cell_type": "code",
   "execution_count": 3,
   "id": "11a66132",
   "metadata": {},
   "outputs": [
    {
     "data": {
      "text/plain": [
       "numpy.datetime64('2018-08-01T00:00:00.000000000')"
      ]
     },
     "execution_count": 3,
     "metadata": {},
     "output_type": "execute_result"
    }
   ],
   "source": [
    "dt_pd.to_numpy() # pd.Timestamp --> np.datetime64"
   ]
  },
  {
   "cell_type": "code",
   "execution_count": 4,
   "id": "de704191",
   "metadata": {},
   "outputs": [
    {
     "data": {
      "text/plain": [
       "numpy.datetime64('2018-08-01T00:00:00.000000000')"
      ]
     },
     "execution_count": 4,
     "metadata": {},
     "output_type": "execute_result"
    }
   ],
   "source": [
    "a = dt_pd.to_numpy()\n",
    "a"
   ]
  },
  {
   "cell_type": "code",
   "execution_count": 5,
   "id": "b0a09abf",
   "metadata": {},
   "outputs": [
    {
     "data": {
      "text/plain": [
       "Timestamp('2018-08-01 00:00:00')"
      ]
     },
     "execution_count": 5,
     "metadata": {},
     "output_type": "execute_result"
    }
   ],
   "source": [
    "pd.Timestamp(a)"
   ]
  },
  {
   "cell_type": "code",
   "execution_count": 14,
   "id": "3a8dca76",
   "metadata": {},
   "outputs": [
    {
     "data": {
      "text/plain": [
       "datetime.datetime(2018, 8, 1, 0, 0)"
      ]
     },
     "execution_count": 14,
     "metadata": {},
     "output_type": "execute_result"
    }
   ],
   "source": [
    "dt_pd.to_pydatetime() #pd.Timestamp -> datetime.datetime"
   ]
  },
  {
   "cell_type": "code",
   "execution_count": 15,
   "id": "67f734e2",
   "metadata": {},
   "outputs": [
    {
     "data": {
      "text/plain": [
       "Timestamp('2018-01-01 19:03:01')"
      ]
     },
     "execution_count": 15,
     "metadata": {},
     "output_type": "execute_result"
    }
   ],
   "source": [
    "pd.Timestamp(dt_np) #np.datetime64 -> pd.Timestamp"
   ]
  },
  {
   "cell_type": "markdown",
   "id": "8d03c6fd",
   "metadata": {},
   "source": [
    "## Timedeltas"
   ]
  },
  {
   "cell_type": "markdown",
   "id": "614c9e9e",
   "metadata": {},
   "source": [
    "to represent differences between 2 timestamps:\n",
    "1. datetime.timedelta\n",
    "2. pd.Timedelta\n",
    "3. np.timedelta64"
   ]
  },
  {
   "cell_type": "markdown",
   "id": "b060d3d2",
   "metadata": {},
   "source": [
    "### datetime.timedelta\n",
    "the Python build-in way of working with differences between 2 datetimes"
   ]
  },
  {
   "cell_type": "code",
   "execution_count": 16,
   "id": "7f496212",
   "metadata": {},
   "outputs": [
    {
     "data": {
      "text/plain": [
       "datetime.timedelta(days=6)"
      ]
     },
     "execution_count": 16,
     "metadata": {},
     "output_type": "execute_result"
    }
   ],
   "source": [
    "del_dt = timedelta(days = 6)\n",
    "del_dt"
   ]
  },
  {
   "cell_type": "code",
   "execution_count": 17,
   "id": "f7e4053d",
   "metadata": {},
   "outputs": [
    {
     "data": {
      "text/plain": [
       "datetime.datetime(2018, 1, 7, 19, 3, 1)"
      ]
     },
     "execution_count": 17,
     "metadata": {},
     "output_type": "execute_result"
    }
   ],
   "source": [
    "dt_dt + del_dt"
   ]
  },
  {
   "cell_type": "code",
   "execution_count": 19,
   "id": "5813e44d",
   "metadata": {},
   "outputs": [
    {
     "data": {
      "text/plain": [
       "datetime.timedelta(days=32, seconds=57600)"
      ]
     },
     "execution_count": 19,
     "metadata": {},
     "output_type": "execute_result"
    }
   ],
   "source": [
    "dt_dt2 = datetime(2018,2,3,11,3,1)\n",
    "dt_dt2 - dt_dt"
   ]
  },
  {
   "cell_type": "markdown",
   "id": "9d01c304",
   "metadata": {},
   "source": [
    "### NumPy: np.timedelta64"
   ]
  },
  {
   "cell_type": "code",
   "execution_count": 20,
   "id": "12c982a5",
   "metadata": {},
   "outputs": [
    {
     "data": {
      "text/plain": [
       "numpy.timedelta64(2755090,'s')"
      ]
     },
     "execution_count": 20,
     "metadata": {},
     "output_type": "execute_result"
    }
   ],
   "source": [
    "dt_np2 = np.datetime64('2018-02-02 16:21:11')\n",
    "del_np = dt_np2 - dt_np\n",
    "del_np"
   ]
  },
  {
   "cell_type": "code",
   "execution_count": 21,
   "id": "1f8ea1a3",
   "metadata": {},
   "outputs": [
    {
     "data": {
      "text/plain": [
       "numpy.datetime64('2018-02-02T16:21:11')"
      ]
     },
     "execution_count": 21,
     "metadata": {},
     "output_type": "execute_result"
    }
   ],
   "source": [
    "dt_np + del_np"
   ]
  },
  {
   "cell_type": "code",
   "execution_count": 22,
   "id": "39a87228",
   "metadata": {},
   "outputs": [
    {
     "data": {
      "text/plain": [
       "2755090"
      ]
     },
     "execution_count": 22,
     "metadata": {},
     "output_type": "execute_result"
    }
   ],
   "source": [
    "np.int64(del_np)"
   ]
  },
  {
   "cell_type": "code",
   "execution_count": 23,
   "id": "58c4ff1c",
   "metadata": {},
   "outputs": [
    {
     "data": {
      "text/plain": [
       "dtype('<m8[s]')"
      ]
     },
     "execution_count": 23,
     "metadata": {},
     "output_type": "execute_result"
    }
   ],
   "source": [
    "np.dtype(del_np)"
   ]
  },
  {
   "cell_type": "code",
   "execution_count": 24,
   "id": "30c73c82",
   "metadata": {},
   "outputs": [
    {
     "data": {
      "text/plain": [
       "'timedelta64[s]'"
      ]
     },
     "execution_count": 24,
     "metadata": {},
     "output_type": "execute_result"
    }
   ],
   "source": [
    "np.dtype(del_np).name"
   ]
  },
  {
   "cell_type": "code",
   "execution_count": 25,
   "id": "19d22335",
   "metadata": {},
   "outputs": [
    {
     "data": {
      "text/plain": [
       "datetime.timedelta(days=31, seconds=76690)"
      ]
     },
     "execution_count": 25,
     "metadata": {},
     "output_type": "execute_result"
    }
   ],
   "source": [
    "del_np.astype(timedelta) # np.timedelta64 -> datetime.timedelta"
   ]
  },
  {
   "cell_type": "markdown",
   "id": "390b6848",
   "metadata": {},
   "source": [
    "### Pandas: pd.Timedelta"
   ]
  },
  {
   "cell_type": "code",
   "execution_count": 26,
   "id": "40915cb0",
   "metadata": {},
   "outputs": [
    {
     "data": {
      "text/plain": [
       "Timedelta('3 days 23:01:03')"
      ]
     },
     "execution_count": 26,
     "metadata": {},
     "output_type": "execute_result"
    }
   ],
   "source": [
    "dt_pd2 = pd.Timestamp('2018/8/4 23:01:03')\n",
    "del_pd = dt_pd2 - dt_pd\n",
    "del_pd"
   ]
  },
  {
   "cell_type": "code",
   "execution_count": 27,
   "id": "b1485000",
   "metadata": {},
   "outputs": [
    {
     "data": {
      "text/plain": [
       "Timestamp('2018-08-04 23:01:03')"
      ]
     },
     "execution_count": 27,
     "metadata": {},
     "output_type": "execute_result"
    }
   ],
   "source": [
    "dt_pd + del_pd"
   ]
  },
  {
   "cell_type": "code",
   "execution_count": 28,
   "id": "a681d82d",
   "metadata": {},
   "outputs": [
    {
     "data": {
      "text/plain": [
       "342063.0"
      ]
     },
     "execution_count": 28,
     "metadata": {},
     "output_type": "execute_result"
    }
   ],
   "source": [
    "del_pd.total_seconds()"
   ]
  },
  {
   "cell_type": "code",
   "execution_count": 29,
   "id": "6111cbab",
   "metadata": {},
   "outputs": [
    {
     "name": "stdout",
     "output_type": "stream",
     "text": [
      "6 days 00:00:00\n",
      "31 days 21:18:10\n"
     ]
    }
   ],
   "source": [
    "print(pd.Timedelta(del_dt))\n",
    "print(pd.Timedelta(del_np))"
   ]
  },
  {
   "cell_type": "code",
   "execution_count": 31,
   "id": "908bc2b1",
   "metadata": {},
   "outputs": [
    {
     "name": "stdout",
     "output_type": "stream",
     "text": [
      "3 days, 23:01:03\n",
      "342063000000000 nanoseconds\n"
     ]
    }
   ],
   "source": [
    "print(del_pd.to_pytimedelta()) # timedelta, not datetime\n",
    "print(del_pd.to_timedelta64())"
   ]
  },
  {
   "cell_type": "markdown",
   "id": "f4f46b4c",
   "metadata": {},
   "source": [
    "## Datetime ranges"
   ]
  },
  {
   "cell_type": "code",
   "execution_count": 32,
   "id": "cb758341",
   "metadata": {},
   "outputs": [
    {
     "data": {
      "text/plain": [
       "DatetimeIndex(['2018-01-01', '2018-01-06', '2018-01-11', '2018-01-16',\n",
       "               '2018-01-21', '2018-01-26', '2018-01-31', '2018-02-05'],\n",
       "              dtype='datetime64[ns]', freq='5D')"
      ]
     },
     "execution_count": 32,
     "metadata": {},
     "output_type": "execute_result"
    }
   ],
   "source": [
    "# pd.date_range() method for creating a pd.DatetimeIndex\n",
    "dti = pd.date_range('2018', periods = 8, freq = '5D')\n",
    "dti"
   ]
  },
  {
   "cell_type": "code",
   "execution_count": 33,
   "id": "e391685f",
   "metadata": {},
   "outputs": [
    {
     "data": {
      "text/plain": [
       "TimedeltaIndex([ '0 days',  '5 days', '10 days', '15 days', '20 days',\n",
       "                '25 days', '30 days', '35 days'],\n",
       "               dtype='timedelta64[ns]', freq=None)"
      ]
     },
     "execution_count": 33,
     "metadata": {},
     "output_type": "execute_result"
    }
   ],
   "source": [
    "tdi = dti - dti[0]\n",
    "tdi"
   ]
  },
  {
   "cell_type": "code",
   "execution_count": 35,
   "id": "7a7b955b",
   "metadata": {},
   "outputs": [
    {
     "data": {
      "text/plain": [
       "array([      0.,  432000.,  864000., 1296000., 1728000., 2160000.,\n",
       "       2592000., 3024000.])"
      ]
     },
     "execution_count": 35,
     "metadata": {},
     "output_type": "execute_result"
    }
   ],
   "source": [
    "tdi.total_seconds().to_numpy()"
   ]
  },
  {
   "cell_type": "markdown",
   "id": "41858fc0",
   "metadata": {},
   "source": [
    "### Slicing with DatetimeIndex"
   ]
  },
  {
   "cell_type": "code",
   "execution_count": 36,
   "id": "546ab785",
   "metadata": {},
   "outputs": [
    {
     "data": {
      "text/html": [
       "<div>\n",
       "<style scoped>\n",
       "    .dataframe tbody tr th:only-of-type {\n",
       "        vertical-align: middle;\n",
       "    }\n",
       "\n",
       "    .dataframe tbody tr th {\n",
       "        vertical-align: top;\n",
       "    }\n",
       "\n",
       "    .dataframe thead th {\n",
       "        text-align: right;\n",
       "    }\n",
       "</style>\n",
       "<table border=\"1\" class=\"dataframe\">\n",
       "  <thead>\n",
       "    <tr style=\"text-align: right;\">\n",
       "      <th></th>\n",
       "      <th>one</th>\n",
       "    </tr>\n",
       "  </thead>\n",
       "  <tbody>\n",
       "    <tr>\n",
       "      <th>2018-01-01</th>\n",
       "      <td>1.0</td>\n",
       "    </tr>\n",
       "    <tr>\n",
       "      <th>2018-01-06</th>\n",
       "      <td>1.0</td>\n",
       "    </tr>\n",
       "    <tr>\n",
       "      <th>2018-01-11</th>\n",
       "      <td>1.0</td>\n",
       "    </tr>\n",
       "    <tr>\n",
       "      <th>2018-01-16</th>\n",
       "      <td>1.0</td>\n",
       "    </tr>\n",
       "    <tr>\n",
       "      <th>2018-01-21</th>\n",
       "      <td>1.0</td>\n",
       "    </tr>\n",
       "    <tr>\n",
       "      <th>2018-01-26</th>\n",
       "      <td>1.0</td>\n",
       "    </tr>\n",
       "    <tr>\n",
       "      <th>2018-01-31</th>\n",
       "      <td>1.0</td>\n",
       "    </tr>\n",
       "    <tr>\n",
       "      <th>2018-02-05</th>\n",
       "      <td>1.0</td>\n",
       "    </tr>\n",
       "  </tbody>\n",
       "</table>\n",
       "</div>"
      ],
      "text/plain": [
       "            one\n",
       "2018-01-01  1.0\n",
       "2018-01-06  1.0\n",
       "2018-01-11  1.0\n",
       "2018-01-16  1.0\n",
       "2018-01-21  1.0\n",
       "2018-01-26  1.0\n",
       "2018-01-31  1.0\n",
       "2018-02-05  1.0"
      ]
     },
     "execution_count": 36,
     "metadata": {},
     "output_type": "execute_result"
    }
   ],
   "source": [
    "df = pd.DataFrame(np.ones(8), index = dti, columns = ['one'])\n",
    "df"
   ]
  },
  {
   "cell_type": "code",
   "execution_count": 37,
   "id": "5829a379",
   "metadata": {},
   "outputs": [
    {
     "data": {
      "text/html": [
       "<div>\n",
       "<style scoped>\n",
       "    .dataframe tbody tr th:only-of-type {\n",
       "        vertical-align: middle;\n",
       "    }\n",
       "\n",
       "    .dataframe tbody tr th {\n",
       "        vertical-align: top;\n",
       "    }\n",
       "\n",
       "    .dataframe thead th {\n",
       "        text-align: right;\n",
       "    }\n",
       "</style>\n",
       "<table border=\"1\" class=\"dataframe\">\n",
       "  <thead>\n",
       "    <tr style=\"text-align: right;\">\n",
       "      <th></th>\n",
       "      <th>one</th>\n",
       "    </tr>\n",
       "  </thead>\n",
       "  <tbody>\n",
       "    <tr>\n",
       "      <th>2018-01-06</th>\n",
       "      <td>1.0</td>\n",
       "    </tr>\n",
       "    <tr>\n",
       "      <th>2018-01-11</th>\n",
       "      <td>1.0</td>\n",
       "    </tr>\n",
       "    <tr>\n",
       "      <th>2018-01-16</th>\n",
       "      <td>1.0</td>\n",
       "    </tr>\n",
       "    <tr>\n",
       "      <th>2018-01-21</th>\n",
       "      <td>1.0</td>\n",
       "    </tr>\n",
       "  </tbody>\n",
       "</table>\n",
       "</div>"
      ],
      "text/plain": [
       "            one\n",
       "2018-01-06  1.0\n",
       "2018-01-11  1.0\n",
       "2018-01-16  1.0\n",
       "2018-01-21  1.0"
      ]
     },
     "execution_count": 37,
     "metadata": {},
     "output_type": "execute_result"
    }
   ],
   "source": [
    "df.loc['2018-01-05':'2018-01-21'] # notice that end of slice is included."
   ]
  },
  {
   "cell_type": "code",
   "execution_count": 38,
   "id": "8b45f65f",
   "metadata": {},
   "outputs": [
    {
     "data": {
      "text/html": [
       "<div>\n",
       "<style scoped>\n",
       "    .dataframe tbody tr th:only-of-type {\n",
       "        vertical-align: middle;\n",
       "    }\n",
       "\n",
       "    .dataframe tbody tr th {\n",
       "        vertical-align: top;\n",
       "    }\n",
       "\n",
       "    .dataframe thead th {\n",
       "        text-align: right;\n",
       "    }\n",
       "</style>\n",
       "<table border=\"1\" class=\"dataframe\">\n",
       "  <thead>\n",
       "    <tr style=\"text-align: right;\">\n",
       "      <th></th>\n",
       "      <th>one</th>\n",
       "    </tr>\n",
       "  </thead>\n",
       "  <tbody>\n",
       "    <tr>\n",
       "      <th>2018-01-26</th>\n",
       "      <td>1.0</td>\n",
       "    </tr>\n",
       "    <tr>\n",
       "      <th>2018-01-31</th>\n",
       "      <td>1.0</td>\n",
       "    </tr>\n",
       "    <tr>\n",
       "      <th>2018-02-05</th>\n",
       "      <td>1.0</td>\n",
       "    </tr>\n",
       "  </tbody>\n",
       "</table>\n",
       "</div>"
      ],
      "text/plain": [
       "            one\n",
       "2018-01-26  1.0\n",
       "2018-01-31  1.0\n",
       "2018-02-05  1.0"
      ]
     },
     "execution_count": 38,
     "metadata": {},
     "output_type": "execute_result"
    }
   ],
   "source": [
    "df.loc['2018-01-26':]"
   ]
  },
  {
   "cell_type": "code",
   "execution_count": 39,
   "id": "d5566d7c",
   "metadata": {},
   "outputs": [
    {
     "data": {
      "text/html": [
       "<div>\n",
       "<style scoped>\n",
       "    .dataframe tbody tr th:only-of-type {\n",
       "        vertical-align: middle;\n",
       "    }\n",
       "\n",
       "    .dataframe tbody tr th {\n",
       "        vertical-align: top;\n",
       "    }\n",
       "\n",
       "    .dataframe thead th {\n",
       "        text-align: right;\n",
       "    }\n",
       "</style>\n",
       "<table border=\"1\" class=\"dataframe\">\n",
       "  <thead>\n",
       "    <tr style=\"text-align: right;\">\n",
       "      <th></th>\n",
       "      <th>one</th>\n",
       "    </tr>\n",
       "  </thead>\n",
       "  <tbody>\n",
       "    <tr>\n",
       "      <th>2018-01-01</th>\n",
       "      <td>1.0</td>\n",
       "    </tr>\n",
       "    <tr>\n",
       "      <th>2018-01-06</th>\n",
       "      <td>1.0</td>\n",
       "    </tr>\n",
       "    <tr>\n",
       "      <th>2018-01-11</th>\n",
       "      <td>1.0</td>\n",
       "    </tr>\n",
       "    <tr>\n",
       "      <th>2018-01-16</th>\n",
       "      <td>1.0</td>\n",
       "    </tr>\n",
       "    <tr>\n",
       "      <th>2018-01-21</th>\n",
       "      <td>1.0</td>\n",
       "    </tr>\n",
       "    <tr>\n",
       "      <th>2018-01-26</th>\n",
       "      <td>1.0</td>\n",
       "    </tr>\n",
       "    <tr>\n",
       "      <th>2018-01-31</th>\n",
       "      <td>1.0</td>\n",
       "    </tr>\n",
       "  </tbody>\n",
       "</table>\n",
       "</div>"
      ],
      "text/plain": [
       "            one\n",
       "2018-01-01  1.0\n",
       "2018-01-06  1.0\n",
       "2018-01-11  1.0\n",
       "2018-01-16  1.0\n",
       "2018-01-21  1.0\n",
       "2018-01-26  1.0\n",
       "2018-01-31  1.0"
      ]
     },
     "execution_count": 39,
     "metadata": {},
     "output_type": "execute_result"
    }
   ],
   "source": [
    "df.loc['2018-01']"
   ]
  },
  {
   "cell_type": "code",
   "execution_count": null,
   "id": "8768d131",
   "metadata": {},
   "outputs": [],
   "source": []
  },
  {
   "cell_type": "code",
   "execution_count": null,
   "id": "f3d5e672",
   "metadata": {},
   "outputs": [],
   "source": []
  },
  {
   "cell_type": "code",
   "execution_count": null,
   "id": "818fe9d7",
   "metadata": {},
   "outputs": [],
   "source": []
  },
  {
   "cell_type": "code",
   "execution_count": null,
   "id": "b9516da4",
   "metadata": {},
   "outputs": [],
   "source": []
  },
  {
   "cell_type": "code",
   "execution_count": null,
   "id": "c37bbc12",
   "metadata": {},
   "outputs": [],
   "source": []
  }
 ],
 "metadata": {
  "interpreter": {
   "hash": "47f91afe521f74c9c4de8a59271451ba7d23a4f8b2cc73cba24c25f8280e6a94"
  },
  "kernelspec": {
   "display_name": "Python 3.9.7 ('base')",
   "language": "python",
   "name": "python3"
  },
  "language_info": {
   "codemirror_mode": {
    "name": "ipython",
    "version": 3
   },
   "file_extension": ".py",
   "mimetype": "text/x-python",
   "name": "python",
   "nbconvert_exporter": "python",
   "pygments_lexer": "ipython3",
   "version": "3.9.7"
  }
 },
 "nbformat": 4,
 "nbformat_minor": 5
}
