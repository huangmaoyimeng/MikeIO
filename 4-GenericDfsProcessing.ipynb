{
 "cells": [
  {
   "cell_type": "markdown",
   "id": "09bd7cdb",
   "metadata": {},
   "source": [
    "source: https://dhi.github.io/getting-started-with-mikeio/generic.html\n",
    "\n",
    "一般性地，对于dfs文件的通用方法\n",
    "\n",
    "mikeio.generic: methods that read any dfs file and outputs a new dfs file of the same type\n",
    "\n",
    "concat: Concatenates files along the time axis\n",
    "\n",
    "scale: Apply scaling to any dfs file\n",
    "\n",
    "sum: Sum two dfs files\n",
    "\n",
    "diff: Calculate difference between two dfs files\n",
    "\n",
    "extract: Extract timesteps and/or items to a new dfs file\n",
    "\n",
    "time-avg: Create a temporally averaged dfs file\n",
    "\n",
    "quantile: Create temporal quantiles of dfs file\n",
    "\n",
    "The generic methods works on larger-than-memory files as they process one time step at a time. This can however make them in-efficient for dfs0 processing!"
   ]
  },
  {
   "cell_type": "code",
   "execution_count": 1,
   "id": "0956a0b0",
   "metadata": {},
   "outputs": [],
   "source": [
    "import numpy as np\n",
    "import matplotlib.pyplot as plt\n",
    "\n",
    "import mikeio\n",
    "import mikeio.generic"
   ]
  },
  {
   "cell_type": "markdown",
   "id": "deaf1eac",
   "metadata": {},
   "source": [
    "# Concatenation \n",
    "2 files with overlapping timesteps"
   ]
  },
  {
   "cell_type": "code",
   "execution_count": 2,
   "id": "bcb21f18",
   "metadata": {},
   "outputs": [
    {
     "data": {
      "text/plain": [
       "<mikeio.Dataset>\n",
       "Dimensions: (97, 10)\n",
       "Time: 2019-01-01 00:00:00 - 2019-01-03 00:00:00\n",
       "Items:\n",
       "  0:  Level <Water Level> (meter)"
      ]
     },
     "execution_count": 2,
     "metadata": {},
     "output_type": "execute_result"
    }
   ],
   "source": [
    "t1 = mikeio.read('mini_book/data/tide1.dfs1')\n",
    "t1"
   ]
  },
  {
   "cell_type": "code",
   "execution_count": 3,
   "id": "6dde72e5",
   "metadata": {},
   "outputs": [
    {
     "data": {
      "text/plain": [
       "<mikeio.Dataset>\n",
       "Dimensions: (97, 10)\n",
       "Time: 2019-01-02 00:00:00 - 2019-01-04 00:00:00\n",
       "Items:\n",
       "  0:  Level <Water Level> (meter)"
      ]
     },
     "execution_count": 3,
     "metadata": {},
     "output_type": "execute_result"
    }
   ],
   "source": [
    "t2 = mikeio.read('mini_book/data/tide2.dfs1')\n",
    "t2"
   ]
  },
  {
   "cell_type": "code",
   "execution_count": 4,
   "id": "ace321d2",
   "metadata": {},
   "outputs": [
    {
     "name": "stderr",
     "output_type": "stream",
     "text": [
      "C:\\Users\\jiyu\\Anaconda3\\lib\\site-packages\\mikeio\\dataset.py:258: UserWarning: Indexing in MIKE IO 1.0 will not return a numpy array, but a mikeio.DataArray. More info: https://github.com/DHI/mikeio#readme\n",
      "  warnings.warn(\n"
     ]
    },
    {
     "ename": "AttributeError",
     "evalue": "'numpy.ndarray' object has no attribute 'isel'",
     "output_type": "error",
     "traceback": [
      "\u001b[1;31m---------------------------------------------------------------------------\u001b[0m",
      "\u001b[1;31mAttributeError\u001b[0m                            Traceback (most recent call last)",
      "\u001b[1;32m~\\AppData\\Local\\Temp/ipykernel_6564/2127410625.py\u001b[0m in \u001b[0;36m<module>\u001b[1;34m\u001b[0m\n\u001b[1;32m----> 1\u001b[1;33m \u001b[0mplt\u001b[0m\u001b[1;33m.\u001b[0m\u001b[0mplot\u001b[0m\u001b[1;33m(\u001b[0m\u001b[0mt1\u001b[0m\u001b[1;33m.\u001b[0m\u001b[0mtime\u001b[0m\u001b[1;33m,\u001b[0m\u001b[0mt1\u001b[0m\u001b[1;33m[\u001b[0m\u001b[1;36m0\u001b[0m\u001b[1;33m]\u001b[0m\u001b[1;33m.\u001b[0m\u001b[0misel\u001b[0m\u001b[1;33m(\u001b[0m\u001b[0mx\u001b[0m\u001b[1;33m=\u001b[0m\u001b[1;36m1\u001b[0m\u001b[1;33m)\u001b[0m\u001b[1;33m.\u001b[0m\u001b[0mvalues\u001b[0m\u001b[1;33m,\u001b[0m \u001b[0mlabel\u001b[0m\u001b[1;33m=\u001b[0m\u001b[1;34m\"File 1\"\u001b[0m\u001b[1;33m)\u001b[0m\u001b[1;33m\u001b[0m\u001b[1;33m\u001b[0m\u001b[0m\n\u001b[0m\u001b[0;32m      2\u001b[0m \u001b[0mplt\u001b[0m\u001b[1;33m.\u001b[0m\u001b[0mplot\u001b[0m\u001b[1;33m(\u001b[0m\u001b[0mt2\u001b[0m\u001b[1;33m.\u001b[0m\u001b[0mtime\u001b[0m\u001b[1;33m,\u001b[0m\u001b[0mt2\u001b[0m\u001b[1;33m[\u001b[0m\u001b[1;36m0\u001b[0m\u001b[1;33m]\u001b[0m\u001b[1;33m.\u001b[0m\u001b[0misel\u001b[0m\u001b[1;33m(\u001b[0m\u001b[0mx\u001b[0m\u001b[1;33m=\u001b[0m\u001b[1;36m1\u001b[0m\u001b[1;33m)\u001b[0m\u001b[1;33m.\u001b[0m\u001b[0mvalues\u001b[0m\u001b[1;33m,\u001b[0m\u001b[1;34m'k+'\u001b[0m\u001b[1;33m,\u001b[0m \u001b[0mlabel\u001b[0m\u001b[1;33m=\u001b[0m\u001b[1;34m\"File 2\"\u001b[0m\u001b[1;33m)\u001b[0m\u001b[1;33m\u001b[0m\u001b[1;33m\u001b[0m\u001b[0m\n\u001b[0;32m      3\u001b[0m \u001b[0mplt\u001b[0m\u001b[1;33m.\u001b[0m\u001b[0mlegend\u001b[0m\u001b[1;33m(\u001b[0m\u001b[1;33m)\u001b[0m\u001b[1;33m\u001b[0m\u001b[1;33m\u001b[0m\u001b[0m\n",
      "\u001b[1;31mAttributeError\u001b[0m: 'numpy.ndarray' object has no attribute 'isel'"
     ]
    }
   ],
   "source": [
    "plt.plot(t1.time,t1[0].isel(x=1).values, label=\"File 1\")\n",
    "plt.plot(t2.time,t2[0].isel(x=1).values,'k+', label=\"File 2\")\n",
    "plt.legend()"
   ]
  },
  {
   "cell_type": "code",
   "execution_count": 8,
   "id": "58aada57",
   "metadata": {},
   "outputs": [],
   "source": [
    "mikeio.generic.concat(infilenames=['mini_book/data/tide1.dfs1',\n",
    "                                   'mini_book/data/tide2.dfs1'],\n",
    "                      outfilename='concat.dfs1', keep='last')"
   ]
  },
  {
   "cell_type": "code",
   "execution_count": 9,
   "id": "6ac742a2",
   "metadata": {},
   "outputs": [
    {
     "data": {
      "text/plain": [
       "<mikeio.Dataset>\n",
       "Dimensions: (145, 10)\n",
       "Time: 2019-01-01 00:00:00 - 2019-01-04 00:00:00\n",
       "Items:\n",
       "  0:  Level <Water Level> (meter)"
      ]
     },
     "execution_count": 9,
     "metadata": {},
     "output_type": "execute_result"
    }
   ],
   "source": [
    "c = mikeio.read('concat.dfs1')\n",
    "c"
   ]
  },
  {
   "cell_type": "code",
   "execution_count": 10,
   "id": "9e8c894e",
   "metadata": {},
   "outputs": [
    {
     "ename": "AttributeError",
     "evalue": "'numpy.ndarray' object has no attribute 'isel'",
     "output_type": "error",
     "traceback": [
      "\u001b[1;31m---------------------------------------------------------------------------\u001b[0m",
      "\u001b[1;31mAttributeError\u001b[0m                            Traceback (most recent call last)",
      "\u001b[1;32m~\\AppData\\Local\\Temp/ipykernel_6564/638073840.py\u001b[0m in \u001b[0;36m<module>\u001b[1;34m\u001b[0m\n\u001b[1;32m----> 1\u001b[1;33m \u001b[0mc\u001b[0m\u001b[1;33m[\u001b[0m\u001b[1;36m0\u001b[0m\u001b[1;33m]\u001b[0m\u001b[1;33m.\u001b[0m\u001b[0misel\u001b[0m\u001b[1;33m(\u001b[0m\u001b[0mx\u001b[0m\u001b[1;33m=\u001b[0m\u001b[1;36m1\u001b[0m\u001b[1;33m)\u001b[0m\u001b[1;33m.\u001b[0m\u001b[0mplot\u001b[0m\u001b[1;33m(\u001b[0m\u001b[1;33m)\u001b[0m\u001b[1;33m\u001b[0m\u001b[1;33m\u001b[0m\u001b[0m\n\u001b[0m",
      "\u001b[1;31mAttributeError\u001b[0m: 'numpy.ndarray' object has no attribute 'isel'"
     ]
    }
   ],
   "source": [
    "c[0].isel(x=1).plot()"
   ]
  },
  {
   "cell_type": "markdown",
   "id": "8c3bbc04",
   "metadata": {},
   "source": [
    "# Extract time steps or items\n",
    "\n",
    "method: extract()\n",
    "1. time slice\n",
    "2. specific items"
   ]
  },
  {
   "cell_type": "code",
   "execution_count": 11,
   "id": "96ab7905",
   "metadata": {},
   "outputs": [],
   "source": [
    "infile = 'mini_book/data/tide1.dfs1'\n",
    "mikeio.generic.extract(infile, 'extracted.dfs1', start='2019-01-02')"
   ]
  },
  {
   "cell_type": "code",
   "execution_count": 13,
   "id": "bb68c1d0",
   "metadata": {},
   "outputs": [
    {
     "data": {
      "text/plain": [
       "<mikeio.Dataset>\n",
       "Dimensions: (49, 10)\n",
       "Time: 2019-01-02 00:00:00 - 2019-01-03 00:00:00\n",
       "Items:\n",
       "  0:  Level <Water Level> (meter)"
      ]
     },
     "execution_count": 13,
     "metadata": {},
     "output_type": "execute_result"
    }
   ],
   "source": [
    "e = mikeio.read('extracted.dfs1')\n",
    "e"
   ]
  },
  {
   "cell_type": "code",
   "execution_count": 14,
   "id": "32f7d24d",
   "metadata": {},
   "outputs": [],
   "source": [
    "infile = \"mini_book/data/oresund_vertical_slice.dfsu\"\n",
    "mikeio.generic.extract(infile, \"extracted.dfsu\", items='Salinity', end=-2)"
   ]
  },
  {
   "cell_type": "code",
   "execution_count": 15,
   "id": "b1e04a7e",
   "metadata": {},
   "outputs": [
    {
     "data": {
      "text/plain": [
       "<mikeio.Dataset>\n",
       "Dimensions: (2, 441)\n",
       "Time: 1997-09-15 21:00:00 - 1997-09-16 00:00:00\n",
       "Items:\n",
       "  0:  Z coordinate <ItemGeometry3D> (meter)\n",
       "  1:  Salinity <Salinity> (PSU)"
      ]
     },
     "execution_count": 15,
     "metadata": {},
     "output_type": "execute_result"
    }
   ],
   "source": [
    "e = mikeio.read(\"extracted.dfsu\")\n",
    "e"
   ]
  },
  {
   "cell_type": "markdown",
   "id": "f8c784a1",
   "metadata": {},
   "source": [
    "# Difference "
   ]
  },
  {
   "cell_type": "code",
   "execution_count": 16,
   "id": "01f34552",
   "metadata": {},
   "outputs": [
    {
     "name": "stderr",
     "output_type": "stream",
     "text": [
      "100%|██████████████████████████████████████████████████████████████████████████████████| 5/5 [00:00<00:00, 1397.08it/s]\n"
     ]
    }
   ],
   "source": [
    "fn1 = \"mini_book/data/oresundHD_run1.dfsu\"\n",
    "fn2 = \"mini_book/data/oresundHD_run2.dfsu\"\n",
    "fn_diff = \"oresundHD_difference.dfsu\"\n",
    "mikeio.generic.diff(fn1, fn2, fn_diff)"
   ]
  },
  {
   "cell_type": "code",
   "execution_count": 17,
   "id": "73404bfe",
   "metadata": {},
   "outputs": [
    {
     "ename": "TypeError",
     "evalue": "read() got an unexpected keyword argument 'time'",
     "output_type": "error",
     "traceback": [
      "\u001b[1;31m---------------------------------------------------------------------------\u001b[0m",
      "\u001b[1;31mTypeError\u001b[0m                                 Traceback (most recent call last)",
      "\u001b[1;32m~\\AppData\\Local\\Temp/ipykernel_6564/800120829.py\u001b[0m in \u001b[0;36m<module>\u001b[1;34m\u001b[0m\n\u001b[0;32m      1\u001b[0m \u001b[0m_\u001b[0m\u001b[1;33m,\u001b[0m \u001b[0max\u001b[0m \u001b[1;33m=\u001b[0m \u001b[0mplt\u001b[0m\u001b[1;33m.\u001b[0m\u001b[0msubplots\u001b[0m\u001b[1;33m(\u001b[0m\u001b[1;36m1\u001b[0m\u001b[1;33m,\u001b[0m\u001b[1;36m3\u001b[0m\u001b[1;33m,\u001b[0m \u001b[0msharey\u001b[0m\u001b[1;33m=\u001b[0m\u001b[1;32mTrue\u001b[0m\u001b[1;33m,\u001b[0m \u001b[0mfigsize\u001b[0m\u001b[1;33m=\u001b[0m\u001b[1;33m(\u001b[0m\u001b[1;36m12\u001b[0m\u001b[1;33m,\u001b[0m\u001b[1;36m5\u001b[0m\u001b[1;33m)\u001b[0m\u001b[1;33m)\u001b[0m\u001b[1;33m\u001b[0m\u001b[1;33m\u001b[0m\u001b[0m\n\u001b[1;32m----> 2\u001b[1;33m \u001b[0mda\u001b[0m \u001b[1;33m=\u001b[0m \u001b[0mmikeio\u001b[0m\u001b[1;33m.\u001b[0m\u001b[0mread\u001b[0m\u001b[1;33m(\u001b[0m\u001b[0mfn1\u001b[0m\u001b[1;33m,\u001b[0m \u001b[0mtime\u001b[0m\u001b[1;33m=\u001b[0m\u001b[1;33m-\u001b[0m\u001b[1;36m1\u001b[0m\u001b[1;33m)\u001b[0m\u001b[1;33m[\u001b[0m\u001b[1;36m0\u001b[0m\u001b[1;33m]\u001b[0m\u001b[1;33m\u001b[0m\u001b[1;33m\u001b[0m\u001b[0m\n\u001b[0m\u001b[0;32m      3\u001b[0m \u001b[0mda\u001b[0m\u001b[1;33m.\u001b[0m\u001b[0mplot\u001b[0m\u001b[1;33m(\u001b[0m\u001b[0mvmin\u001b[0m\u001b[1;33m=\u001b[0m\u001b[1;36m0.06\u001b[0m\u001b[1;33m,\u001b[0m \u001b[0mvmax\u001b[0m\u001b[1;33m=\u001b[0m\u001b[1;36m0.27\u001b[0m\u001b[1;33m,\u001b[0m \u001b[0max\u001b[0m\u001b[1;33m=\u001b[0m\u001b[0max\u001b[0m\u001b[1;33m[\u001b[0m\u001b[1;36m0\u001b[0m\u001b[1;33m]\u001b[0m\u001b[1;33m,\u001b[0m \u001b[0mtitle\u001b[0m\u001b[1;33m=\u001b[0m\u001b[1;34m'run 1'\u001b[0m\u001b[1;33m)\u001b[0m\u001b[1;33m\u001b[0m\u001b[1;33m\u001b[0m\u001b[0m\n\u001b[0;32m      4\u001b[0m \u001b[0mda\u001b[0m \u001b[1;33m=\u001b[0m \u001b[0mmikeio\u001b[0m\u001b[1;33m.\u001b[0m\u001b[0mread\u001b[0m\u001b[1;33m(\u001b[0m\u001b[0mfn2\u001b[0m\u001b[1;33m,\u001b[0m \u001b[0mtime\u001b[0m\u001b[1;33m=\u001b[0m\u001b[1;33m-\u001b[0m\u001b[1;36m1\u001b[0m\u001b[1;33m)\u001b[0m\u001b[1;33m[\u001b[0m\u001b[1;36m0\u001b[0m\u001b[1;33m]\u001b[0m\u001b[1;33m\u001b[0m\u001b[1;33m\u001b[0m\u001b[0m\n\u001b[0;32m      5\u001b[0m \u001b[0mda\u001b[0m\u001b[1;33m.\u001b[0m\u001b[0mplot\u001b[0m\u001b[1;33m(\u001b[0m\u001b[0mvmin\u001b[0m\u001b[1;33m=\u001b[0m\u001b[1;36m0.06\u001b[0m\u001b[1;33m,\u001b[0m \u001b[0mvmax\u001b[0m\u001b[1;33m=\u001b[0m\u001b[1;36m0.27\u001b[0m\u001b[1;33m,\u001b[0m \u001b[0max\u001b[0m\u001b[1;33m=\u001b[0m\u001b[0max\u001b[0m\u001b[1;33m[\u001b[0m\u001b[1;36m1\u001b[0m\u001b[1;33m]\u001b[0m\u001b[1;33m,\u001b[0m \u001b[0mtitle\u001b[0m\u001b[1;33m=\u001b[0m\u001b[1;34m'run 2'\u001b[0m\u001b[1;33m)\u001b[0m\u001b[1;33m\u001b[0m\u001b[1;33m\u001b[0m\u001b[0m\n",
      "\u001b[1;31mTypeError\u001b[0m: read() got an unexpected keyword argument 'time'"
     ]
    },
    {
     "data": {
      "image/png": "[encoded data removed]",
      "text/plain": [
       "<Figure size 864x360 with 3 Axes>"
      ]
     },
     "metadata": {
      "needs_background": "light"
     },
     "output_type": "display_data"
    }
   ],
   "source": [
    "_, ax = plt.subplots(1,3, sharey=True, figsize=(12,5))\n",
    "da = mikeio.read(fn1, time=-1)[0]\n",
    "da.plot(vmin=0.06, vmax=0.27, ax=ax[0], title='run 1')\n",
    "da = mikeio.read(fn2, time=-1)[0]\n",
    "da.plot(vmin=0.06, vmax=0.27, ax=ax[1], title='run 2')\n",
    "da = mikeio.read(fn_diff, time=-1)[0]\n",
    "da.plot(vmin=-0.1, vmax=0.1, cmap='coolwarm', ax=ax[2], title='difference');"
   ]
  },
  {
   "cell_type": "markdown",
   "id": "7f9c3ffd",
   "metadata": {},
   "source": [
    "# Scaling \n",
    "\n",
    "adding a const. e.g. to adjust the datum"
   ]
  },
  {
   "cell_type": "code",
   "execution_count": 18,
   "id": "736aeb87",
   "metadata": {},
   "outputs": [
    {
     "ename": "AttributeError",
     "evalue": "'Dataset' object has no attribute 'Elevation'",
     "output_type": "error",
     "traceback": [
      "\u001b[1;31m---------------------------------------------------------------------------\u001b[0m",
      "\u001b[1;31mAttributeError\u001b[0m                            Traceback (most recent call last)",
      "\u001b[1;32m~\\AppData\\Local\\Temp/ipykernel_6564/989613806.py\u001b[0m in \u001b[0;36m<module>\u001b[1;34m\u001b[0m\n\u001b[0;32m      1\u001b[0m \u001b[0mds\u001b[0m \u001b[1;33m=\u001b[0m \u001b[0mmikeio\u001b[0m\u001b[1;33m.\u001b[0m\u001b[0mread\u001b[0m\u001b[1;33m(\u001b[0m\u001b[1;34m\"mini_book/data/gebco_sound.dfs2\"\u001b[0m\u001b[1;33m)\u001b[0m\u001b[1;33m\u001b[0m\u001b[1;33m\u001b[0m\u001b[0m\n\u001b[1;32m----> 2\u001b[1;33m \u001b[0mds\u001b[0m\u001b[1;33m.\u001b[0m\u001b[0mElevation\u001b[0m\u001b[1;33m.\u001b[0m\u001b[0mplot\u001b[0m\u001b[1;33m(\u001b[0m\u001b[1;33m)\u001b[0m\u001b[1;33m;\u001b[0m\u001b[1;33m\u001b[0m\u001b[1;33m\u001b[0m\u001b[0m\n\u001b[0m",
      "\u001b[1;31mAttributeError\u001b[0m: 'Dataset' object has no attribute 'Elevation'"
     ]
    }
   ],
   "source": [
    "ds = mikeio.read(\"mini_book/data/gebco_sound.dfs2\")\n",
    "ds.Elevation.plot();"
   ]
  },
  {
   "cell_type": "code",
   "execution_count": 19,
   "id": "244f5cda",
   "metadata": {},
   "outputs": [
    {
     "data": {
      "text/plain": [
       "-43.0"
      ]
     },
     "execution_count": 19,
     "metadata": {},
     "output_type": "execute_result"
    }
   ],
   "source": [
    "ds['Elevation'][0,104,131]"
   ]
  },
  {
   "cell_type": "code",
   "execution_count": 20,
   "id": "8b0277c6",
   "metadata": {},
   "outputs": [],
   "source": [
    "mikeio.generic.scale(\"mini_book/data/gebco_sound.dfs2\",\"gebco_sound_local_datum.dfs2\",offset=-2.1)"
   ]
  },
  {
   "cell_type": "code",
   "execution_count": 21,
   "id": "8f598944",
   "metadata": {},
   "outputs": [
    {
     "ename": "AttributeError",
     "evalue": "'Dataset' object has no attribute 'Elevation'",
     "output_type": "error",
     "traceback": [
      "\u001b[1;31m---------------------------------------------------------------------------\u001b[0m",
      "\u001b[1;31mAttributeError\u001b[0m                            Traceback (most recent call last)",
      "\u001b[1;32m~\\AppData\\Local\\Temp/ipykernel_6564/2585088025.py\u001b[0m in \u001b[0;36m<module>\u001b[1;34m\u001b[0m\n\u001b[0;32m      1\u001b[0m \u001b[0mds2\u001b[0m \u001b[1;33m=\u001b[0m \u001b[0mmikeio\u001b[0m\u001b[1;33m.\u001b[0m\u001b[0mread\u001b[0m\u001b[1;33m(\u001b[0m\u001b[1;34m\"gebco_sound_local_datum.dfs2\"\u001b[0m\u001b[1;33m)\u001b[0m\u001b[1;33m\u001b[0m\u001b[1;33m\u001b[0m\u001b[0m\n\u001b[1;32m----> 2\u001b[1;33m \u001b[0mds\u001b[0m\u001b[1;33m.\u001b[0m\u001b[0mElevation\u001b[0m\u001b[1;33m.\u001b[0m\u001b[0mplot\u001b[0m\u001b[1;33m(\u001b[0m\u001b[1;33m)\u001b[0m\u001b[1;33m;\u001b[0m\u001b[1;33m\u001b[0m\u001b[1;33m\u001b[0m\u001b[0m\n\u001b[0m",
      "\u001b[1;31mAttributeError\u001b[0m: 'Dataset' object has no attribute 'Elevation'"
     ]
    }
   ],
   "source": [
    "ds2 = mikeio.read(\"gebco_sound_local_datum.dfs2\")\n",
    "ds.Elevation.plot();"
   ]
  },
  {
   "cell_type": "code",
   "execution_count": 22,
   "id": "b40cc5ff",
   "metadata": {},
   "outputs": [
    {
     "data": {
      "text/plain": [
       "-45.099998474121094"
      ]
     },
     "execution_count": 22,
     "metadata": {},
     "output_type": "execute_result"
    }
   ],
   "source": [
    "ds2['Elevation'][0,104,131]"
   ]
  },
  {
   "cell_type": "markdown",
   "id": "6ecc7232",
   "metadata": {},
   "source": [
    "# Spatially varying correction "
   ]
  },
  {
   "cell_type": "code",
   "execution_count": 23,
   "id": "f9ad8780",
   "metadata": {},
   "outputs": [
    {
     "ename": "AttributeError",
     "evalue": "'numpy.ndarray' object has no attribute 'to_numpy'",
     "output_type": "error",
     "traceback": [
      "\u001b[1;31m---------------------------------------------------------------------------\u001b[0m",
      "\u001b[1;31mAttributeError\u001b[0m                            Traceback (most recent call last)",
      "\u001b[1;32m~\\AppData\\Local\\Temp/ipykernel_6564/764268646.py\u001b[0m in \u001b[0;36m<module>\u001b[1;34m\u001b[0m\n\u001b[0;32m      1\u001b[0m \u001b[1;32mimport\u001b[0m \u001b[0mnumpy\u001b[0m \u001b[1;32mas\u001b[0m \u001b[0mnp\u001b[0m\u001b[1;33m\u001b[0m\u001b[1;33m\u001b[0m\u001b[0m\n\u001b[1;32m----> 2\u001b[1;33m \u001b[0mfactor\u001b[0m \u001b[1;33m=\u001b[0m \u001b[0mnp\u001b[0m\u001b[1;33m.\u001b[0m\u001b[0mones_like\u001b[0m\u001b[1;33m(\u001b[0m\u001b[0mds\u001b[0m\u001b[1;33m[\u001b[0m\u001b[1;34m'Elevation'\u001b[0m\u001b[1;33m]\u001b[0m\u001b[1;33m[\u001b[0m\u001b[1;36m0\u001b[0m\u001b[1;33m]\u001b[0m\u001b[1;33m.\u001b[0m\u001b[0mto_numpy\u001b[0m\u001b[1;33m(\u001b[0m\u001b[1;33m)\u001b[0m\u001b[1;33m)\u001b[0m\u001b[1;33m\u001b[0m\u001b[1;33m\u001b[0m\u001b[0m\n\u001b[0m\u001b[0;32m      3\u001b[0m \u001b[0mfactor\u001b[0m\u001b[1;33m.\u001b[0m\u001b[0mshape\u001b[0m\u001b[1;33m\u001b[0m\u001b[1;33m\u001b[0m\u001b[0m\n",
      "\u001b[1;31mAttributeError\u001b[0m: 'numpy.ndarray' object has no attribute 'to_numpy'"
     ]
    }
   ],
   "source": [
    "import numpy as np\n",
    "factor = np.ones_like(ds['Elevation'][0].to_numpy())\n",
    "factor.shape"
   ]
  },
  {
   "cell_type": "code",
   "execution_count": 24,
   "id": "a141b08a",
   "metadata": {},
   "outputs": [
    {
     "data": {
      "text/plain": [
       "(264, 216)"
      ]
     },
     "execution_count": 24,
     "metadata": {},
     "output_type": "execute_result"
    }
   ],
   "source": [
    "import numpy as np\n",
    "factor = np.ones_like(ds['Elevation'][0])\n",
    "factor.shape"
   ]
  },
  {
   "cell_type": "code",
   "execution_count": 25,
   "id": "473bda5a",
   "metadata": {},
   "outputs": [
    {
     "data": {
      "image/png": "[encoded data removed]",
      "text/plain": [
       "<Figure size 432x288 with 2 Axes>"
      ]
     },
     "metadata": {
      "needs_background": "light"
     },
     "output_type": "display_data"
    }
   ],
   "source": [
    "factor[:,0:100] = 5.3\n",
    "factor[0:40,] = 0.1\n",
    "factor[150:,150:] = 10.7\n",
    "plt.imshow(factor)\n",
    "plt.colorbar();"
   ]
  },
  {
   "cell_type": "markdown",
   "id": "881a0e07",
   "metadata": {},
   "source": [
    "The 2d array must first be flipped upside down and then converted to a 1d vector using numpy.ndarray.flatten to match how data is stored in dfs files."
   ]
  },
  {
   "cell_type": "code",
   "execution_count": 26,
   "id": "a2aba0f4",
   "metadata": {},
   "outputs": [],
   "source": [
    "factor_ud = np.flipud(factor)\n",
    "factor_vec  = factor_ud.flatten()\n",
    "mikeio.generic.scale(\"mini_book/data/gebco_sound.dfs2\",\"gebco_sound_spatial.dfs2\",factor=factor_vec)"
   ]
  },
  {
   "cell_type": "code",
   "execution_count": null,
   "id": "ab170e37",
   "metadata": {},
   "outputs": [],
   "source": [
    "ds3 = mikeio.read(\"gebco_sound_spatial.dfs2\")\n",
    "ds3.Elevation.plot()\n",
    "plt.title(\"Spatial correction applied to dfs2\")"
   ]
  },
  {
   "cell_type": "markdown",
   "id": "49b6cf9e",
   "metadata": {},
   "source": [
    "# Clean up "
   ]
  },
  {
   "cell_type": "code",
   "execution_count": 27,
   "id": "6f5f95b7",
   "metadata": {},
   "outputs": [],
   "source": [
    "import os\n",
    "os.remove(\"concat.dfs1\")\n",
    "os.remove(\"extracted.dfs1\")\n",
    "os.remove(\"extracted.dfsu\")\n",
    "os.remove(\"oresundHD_difference.dfsu\")\n",
    "os.remove(\"gebco_sound_local_datum.dfs2\")\n",
    "os.remove(\"gebco_sound_spatial.dfs2\")"
   ]
  },
  {
   "cell_type": "code",
   "execution_count": null,
   "id": "04b5813e",
   "metadata": {},
   "outputs": [],
   "source": []
  }
 ],
 "metadata": {
  "kernelspec": {
   "display_name": "Python 3 (ipykernel)",
   "language": "python",
   "name": "python3"
  },
  "language_info": {
   "codemirror_mode": {
    "name": "ipython",
    "version": 3
   },
   "file_extension": ".py",
   "mimetype": "text/x-python",
   "name": "python",
   "nbconvert_exporter": "python",
   "pygments_lexer": "ipython3",
   "version": "3.9.7"
  }
 },
 "nbformat": 4,
 "nbformat_minor": 5
}
